{
 "cells": [
  {
   "cell_type": "code",
   "execution_count": 1,
   "metadata": {},
   "outputs": [],
   "source": [
    "import dash             #(version 1.9.1) pip install dash==1.9.1\n",
    "import dash_core_components as dcc\n",
    "import dash_html_components as html"
   ]
  },
  {
   "cell_type": "code",
   "execution_count": 2,
   "metadata": {},
   "outputs": [],
   "source": [
    "app = dash.Dash()"
   ]
  },
  {
   "cell_type": "code",
   "execution_count": 44,
   "metadata": {},
   "outputs": [],
   "source": [
    "colors = {\n",
    "    'background': '#ECF0F1',\n",
    "    'text': '#33FF63'\n",
    "}"
   ]
  },
  {
   "cell_type": "code",
   "execution_count": null,
   "metadata": {},
   "outputs": [],
   "source": [
    "'''help(html.Div)'''"
   ]
  },
  {
   "cell_type": "code",
   "execution_count": 57,
   "metadata": {},
   "outputs": [
    {
     "ename": "SyntaxError",
     "evalue": "EOL while scanning string literal (<ipython-input-57-4df9f5bdb0ae>, line 25)",
     "output_type": "error",
     "traceback": [
      "\u001b[1;36m  File \u001b[1;32m\"<ipython-input-57-4df9f5bdb0ae>\"\u001b[1;36m, line \u001b[1;32m25\u001b[0m\n\u001b[1;33m    'plot_bgcolor': colors['background'] ',\u001b[0m\n\u001b[1;37m                                           ^\u001b[0m\n\u001b[1;31mSyntaxError\u001b[0m\u001b[1;31m:\u001b[0m EOL while scanning string literal\n"
     ]
    }
   ],
   "source": [
    "app.layout = html.Div([\n",
    "    \n",
    "    html.H2(children='HELLO HOUSSAM',\n",
    "           style={\n",
    "               'textAlign':'center',\n",
    "               'color':'#FF3333'\n",
    "           }\n",
    "           ),\n",
    "    html.Div(children=\n",
    "        'Dash: A web application framework for Python.',\n",
    "             style={\n",
    "               'textAlign':'center',\n",
    "               'color':colors['text'] \n",
    "             }\n",
    "    ),\n",
    "    \n",
    "    dcc.Graph(\n",
    "        id='example-graph',\n",
    "        figure={\n",
    "            'data': [\n",
    "                {'x': [1, 2, 3,4,5], 'y': [4, 1, 2,5,10], 'type': 'bar', 'name': 'houssam'},\n",
    "                {'x': [1, 2, 3,4,5], 'y': [2, 4, 5,3,11], 'type': 'line', 'name': 'zouhri'},\n",
    "            ],\n",
    "            'layout': {\n",
    "                'plot_bgcolor': colors['background'] ',\n",
    "                'paper_bgcolor': colors['background'],\n",
    "                'font': {\n",
    "                    'color': '#2E4053',\n",
    "                'title': 'First exemple'\n",
    "            }\n",
    "        }\n",
    "        \n",
    "    }\n",
    "            )\n",
    "    \n",
    "        \n",
    "])"
   ]
  },
  {
   "cell_type": "code",
   "execution_count": 54,
   "metadata": {},
   "outputs": [
    {
     "name": "stdout",
     "output_type": "stream",
     "text": [
      " * Serving Flask app \"__main__\" (lazy loading)\n",
      " * Environment: production\n",
      "   WARNING: This is a development server. Do not use it in a production deployment.\n",
      "   Use a production WSGI server instead.\n",
      " * Debug mode: off\n"
     ]
    },
    {
     "name": "stderr",
     "output_type": "stream",
     "text": [
      " * Running on http://127.0.0.1:4051/ (Press CTRL+C to quit)\n",
      "127.0.0.1 - - [01/May/2020 14:03:08] \"\u001b[37mGET / HTTP/1.1\u001b[0m\" 200 -\n",
      "127.0.0.1 - - [01/May/2020 14:03:08] \"\u001b[37mGET /_dash-layout HTTP/1.1\u001b[0m\" 200 -\n",
      "127.0.0.1 - - [01/May/2020 14:03:08] \"\u001b[37mGET /_dash-dependencies HTTP/1.1\u001b[0m\" 200 -\n",
      "127.0.0.1 - - [01/May/2020 14:03:08] \"\u001b[37mGET /_favicon.ico?v=1.11.0 HTTP/1.1\u001b[0m\" 200 -\n"
     ]
    }
   ],
   "source": [
    "if __name__ == '__main__':\n",
    "    app.run_server(port=4051)"
   ]
  },
  {
   "cell_type": "code",
   "execution_count": null,
   "metadata": {},
   "outputs": [],
   "source": []
  }
 ],
 "metadata": {
  "kernelspec": {
   "display_name": "Python 3",
   "language": "python",
   "name": "python3"
  },
  "language_info": {
   "codemirror_mode": {
    "name": "ipython",
    "version": 3
   },
   "file_extension": ".py",
   "mimetype": "text/x-python",
   "name": "python",
   "nbconvert_exporter": "python",
   "pygments_lexer": "ipython3",
   "version": "3.7.4"
  }
 },
 "nbformat": 4,
 "nbformat_minor": 4
}
