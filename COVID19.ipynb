{
 "cells": [
  {
   "cell_type": "code",
   "execution_count": 9,
   "metadata": {},
   "outputs": [],
   "source": [
    "import pandas as pd     #(version 1.0.0)\n",
    "import plotly           #(version 4.5.4) pip install plotly==4.5.4\n",
    "import plotly.express as px\n",
    "import plotly.graph_objs as go\n",
    "\n",
    "import dash             #(version 1.9.1) pip install dash==1.9.1\n",
    "import dash_core_components as dcc\n",
    "import dash_html_components as html\n",
    "from dash.dependencies import Input, Output\n",
    "from datetime import datetime as dt\n",
    "\n",
    "app = dash.Dash(__name__)"
   ]
  },
  {
   "cell_type": "code",
   "execution_count": 10,
   "metadata": {},
   "outputs": [],
   "source": [
    "df = pd.read_csv(\"patients-maroc.csv\")\n"
   ]
  },
  {
   "cell_type": "code",
   "execution_count": 11,
   "metadata": {},
   "outputs": [],
   "source": [
    "colors = {\n",
    "    'background': '#ECF0F1',\n",
    "    'text': '#33FF63'\n",
    "}"
   ]
  },
  {
   "cell_type": "code",
   "execution_count": 12,
   "metadata": {},
   "outputs": [
    {
     "name": "stdout",
     "output_type": "stream",
     "text": [
      "<class 'pandas.core.frame.DataFrame'>\n",
      "RangeIndex: 1184 entries, 0 to 1183\n",
      "Data columns (total 17 columns):\n",
      "n                   1184 non-null int64\n",
      "sex                 64 non-null object\n",
      "age                 39 non-null float64\n",
      "country             10 non-null object\n",
      "province            1184 non-null object\n",
      "disease             10 non-null float64\n",
      "group               0 non-null float64\n",
      "exposure_start      12 non-null object\n",
      "exposure_end        15 non-null object\n",
      "infection_reason    1025 non-null object\n",
      "infection_order     1 non-null float64\n",
      "infected_by         0 non-null float64\n",
      "contact_number      0 non-null float64\n",
      "confirmed_date      1184 non-null object\n",
      "released_date       6 non-null object\n",
      "deceased_date       11 non-null object\n",
      "state               1184 non-null object\n",
      "dtypes: float64(6), int64(1), object(10)\n",
      "memory usage: 157.4+ KB\n"
     ]
    }
   ],
   "source": [
    "df.info()"
   ]
  },
  {
   "cell_type": "code",
   "execution_count": 13,
   "metadata": {},
   "outputs": [],
   "source": [
    "# too much missing values : print(df.isnull().sum())\n",
    "df.drop([\"sex\",\"age\",\"country\",\"disease\",\"group\",\"infection_order\",\"exposure_start\",\"exposure_end\",\"infected_by\",\"contact_number\"],axis = 1,inplace = True)\n"
   ]
  },
  {
   "cell_type": "code",
   "execution_count": 14,
   "metadata": {},
   "outputs": [
    {
     "data": {
      "text/plain": [
       "Local       976\n",
       "Imported     31\n",
       "local        13\n",
       "imported      5\n",
       "Name: infection_reason, dtype: int64"
      ]
     },
     "execution_count": 14,
     "metadata": {},
     "output_type": "execute_result"
    }
   ],
   "source": [
    "df['infection_reason'].value_counts()"
   ]
  },
  {
   "cell_type": "code",
   "execution_count": 15,
   "metadata": {},
   "outputs": [],
   "source": [
    "# replace the missing values of infection_reason with an Unknown reason and standerise the reason format\n",
    "df.infection_reason.fillna(\"Unknown\", inplace = True)\n",
    "df.replace(to_replace = [\"local\"], value = \"Local\", inplace = True)\n",
    "df.replace(to_replace = [\"imported\"], value = \"Imported\", inplace = True)\n",
    "infection_reasons = df.infection_reason.value_counts()\n"
   ]
  },
  {
   "cell_type": "code",
   "execution_count": 16,
   "metadata": {},
   "outputs": [],
   "source": [
    "#converting to the right type : print(df.dtypes)\n",
    "df[\"confirmed_date\"] =pd.to_datetime(df.confirmed_date)\n",
    "df[\"released_date\"] =pd.to_datetime(df.released_date)\n",
    "df[\"deceased_date\"] =pd.to_datetime(df.deceased_date)"
   ]
  },
  {
   "cell_type": "code",
   "execution_count": 17,
   "metadata": {},
   "outputs": [],
   "source": [
    "# if nothing is declared in a given day note it as 0\n",
    "cases_daily = df.confirmed_date.value_counts()\n",
    "cases_daily = cases_daily.sort_index()\n",
    "\n"
   ]
  },
  {
   "cell_type": "code",
   "execution_count": 18,
   "metadata": {},
   "outputs": [],
   "source": [
    "deaths_daily = df.deceased_date.value_counts()\n",
    "deaths_daily =deaths_daily.sort_index()"
   ]
  },
  {
   "cell_type": "code",
   "execution_count": 19,
   "metadata": {},
   "outputs": [],
   "source": [
    "releases_daily = df.released_date.value_counts()\n",
    "releases_daily=releases_daily.sort_index()"
   ]
  },
  {
   "cell_type": "code",
   "execution_count": 20,
   "metadata": {},
   "outputs": [],
   "source": [
    "# count of days\n",
    "day_num = (cases_daily.index)[-1]-(cases_daily.index)[0]\n"
   ]
  },
  {
   "cell_type": "code",
   "execution_count": 21,
   "metadata": {},
   "outputs": [],
   "source": [
    "days = pd.date_range((cases_daily.index)[0], (cases_daily.index)[-1], freq=\"D\")"
   ]
  },
  {
   "cell_type": "code",
   "execution_count": 22,
   "metadata": {},
   "outputs": [],
   "source": [
    "for i in days:\n",
    "    if i not in cases_daily.index:\n",
    "        cases_daily = cases_daily.append(pd.Series([0], index=[i]))\n",
    "    if i not in deaths_daily.index:\n",
    "        deaths_daily = deaths_daily.append(pd.Series([0], index=[i]))\n",
    "    if i not in releases_daily.index:\n",
    "        releases_daily = releases_daily.append(pd.Series([0], index=[i]))\n"
   ]
  },
  {
   "cell_type": "code",
   "execution_count": 23,
   "metadata": {},
   "outputs": [],
   "source": [
    "#sort everything\n",
    "cases_daily = cases_daily.sort_index()\n",
    "deaths_daily = deaths_daily.sort_index()\n",
    "releases_daily = releases_daily.sort_index()\n"
   ]
  },
  {
   "cell_type": "code",
   "execution_count": 24,
   "metadata": {},
   "outputs": [],
   "source": [
    "#accumulate valuesfor i in cases_daily.index:\n",
    "sum_cases = 0\n",
    "accumulate_cases = cases_daily.copy()\n",
    "\n",
    "sum_deaths = 0\n",
    "accumulate_deaths = deaths_daily.copy()\n",
    "\n",
    "sum_releases = 0\n",
    "accumulate_releases = releases_daily.copy()\n",
    "\n",
    "for i in days:\n",
    "    sum_cases = sum_cases + cases_daily[i]\n",
    "    accumulate_cases[i] = sum_cases\n",
    "    sum_deaths = sum_deaths + deaths_daily[i]\n",
    "    accumulate_deaths[i] = sum_deaths\n",
    "    sum_releases = sum_releases + releases_daily[i]\n",
    "    accumulate_releases[i] = sum_releases"
   ]
  },
  {
   "cell_type": "code",
   "execution_count": 25,
   "metadata": {},
   "outputs": [],
   "source": [
    "# generate daily traces\n",
    "trace_cases_daily = go.Scatter(x = list(cases_daily.index),\n",
    "                               y = list(cases_daily.values),\n",
    "                               name = \"cases_daily\",\n",
    "                               mode= \"lines\",\n",
    "                               line = dict(color = \"#0852a1\"))\n",
    "trace_deaths_daily = go.Scatter(x = list(deaths_daily.index),\n",
    "                               y = list(deaths_daily.values),\n",
    "                               name = \"death_daily\",\n",
    "                               mode= \"lines\",\n",
    "                               line = dict(color = \"#d40b0b\"))\n",
    "trace_releases_daily = go.Scatter(x = list(releases_daily.index),\n",
    "                               y = list(releases_daily.values),\n",
    "                               name = \"releases_daily\",\n",
    "                               mode= \"lines\",\n",
    "                               line = dict(color = \"#1aa108\"))"
   ]
  },
  {
   "cell_type": "code",
   "execution_count": 26,
   "metadata": {},
   "outputs": [],
   "source": [
    "# generate accumulate traces\n",
    "trace_accumulate_cases = go.Scatter(x = list(accumulate_cases.index),\n",
    "                                    y = list(accumulate_cases.values),\n",
    "                                    name = \"accumulate_cases\",\n",
    "                                    mode= \"lines\",\n",
    "                                    line = dict(color = \"#0852a1\"))\n",
    "trace_accumulate_deaths = go.Scatter(x = list(accumulate_deaths.index),\n",
    "                                    y = list(accumulate_deaths.values),\n",
    "                                    name = \"accumulate_deaths\",\n",
    "                                    mode= \"lines\",\n",
    "                                    line = dict(color = \"#d40b0b\"))\n",
    "trace_accumulate_releases = go.Scatter(x = list(accumulate_releases.index),\n",
    "                                    y = list(accumulate_releases.values),\n",
    "                                    name = \"accumulate_releases\",\n",
    "                                    mode= \"lines\",\n",
    "                                    line = dict(color = \"#1aa108\"))"
   ]
  },
  {
   "cell_type": "code",
   "execution_count": 27,
   "metadata": {},
   "outputs": [],
   "source": [
    "#do nut chart\n",
    "trace_infection_reasons = go.Pie(labels = infection_reasons.index,\n",
    "                                 values = infection_reasons.values,\n",
    "                                 hole=.5)"
   ]
  },
  {
   "cell_type": "code",
   "execution_count": 28,
   "metadata": {},
   "outputs": [],
   "source": [
    "# construct a data of recordes per province\n",
    "df_sub = pd.DataFrame(df[df.state == \"isolated\"].province.value_counts())\n",
    "df_sub.columns = [\"isolated\"]\n",
    "lon = [-7.965636,-8.365910,-6.235980,-4.658982,-5.433289,-2.556609,-5.330057,-6.267116,-8.634435,-13.178729,-9.875821]\n",
    "lat = [33.134399,31.736601,34.140537,33.726610,35.197405,33.991792,31.258876,32.492824,29.992446,27.131740,28.581917]\n",
    "deceased = df[df.state == \"Deceased\"].province.value_counts()\n",
    "exit = df[df.state == \"Exit\"].province.value_counts()\n",
    "df_sub[\"lon\"] = lon\n",
    "df_sub[\"lat\"] = lat\n",
    "df_sub[\"deceased\"] = deceased\n",
    "df_sub[\"exit\"] = exit\n",
    "df_sub.fillna(0, inplace=True)"
   ]
  },
  {
   "cell_type": "code",
   "execution_count": 29,
   "metadata": {},
   "outputs": [],
   "source": [
    "#traces for a geo plot\n",
    "trace_isolated_geo = go.Scattergeo(\n",
    "    name = \"isolated\",\n",
    "    locationmode = 'country names',\n",
    "    lon = df_sub.lon,\n",
    "    lat = df_sub.lat,\n",
    "    text = df_sub.index,\n",
    "    marker = dict(\n",
    "        sizeref=.1,\n",
    "        size = df_sub.isolated,\n",
    "        sizemode = \"area\",\n",
    "    ),\n",
    "    hovertemplate=\n",
    "        \"<b>%{text}</b><br>\" +\n",
    "        \"Number of: %{marker.size}<br>\" +\n",
    "        \"<extra></extra>\",\n",
    ")"
   ]
  },
  {
   "cell_type": "code",
   "execution_count": 30,
   "metadata": {},
   "outputs": [],
   "source": [
    "trace_deceased_geo = go.Scattergeo(\n",
    "    name = \"deceased\",\n",
    "    locationmode = 'country names',\n",
    "    lon = df_sub.lon,\n",
    "    lat = df_sub.lat,\n",
    "    text = df_sub.index,\n",
    "    marker = dict(\n",
    "        sizeref=.1,\n",
    "        size = df_sub.deceased,\n",
    "        sizemode = \"area\",\n",
    "    ),\n",
    "    hovertemplate=\n",
    "        \"<b>%{text}</b><br>\" +\n",
    "        \"Number of: %{marker.size}<br>\" +\n",
    "        \"<extra></extra>\",\n",
    ")"
   ]
  },
  {
   "cell_type": "code",
   "execution_count": 31,
   "metadata": {},
   "outputs": [],
   "source": [
    "trace_exit_geo = go.Scattergeo(\n",
    "    name = \"exit\",\n",
    "    locationmode = 'country names',\n",
    "    lon = df_sub.lon,\n",
    "    lat = df_sub.lat,\n",
    "    text = df_sub.index,\n",
    "    marker = dict(\n",
    "        sizeref=.1,\n",
    "        size = df_sub.exit,\n",
    "        sizemode = \"area\"\n",
    "    ),\n",
    "    hovertemplate=\n",
    "        \"<b>%{text}</b><br>\" +\n",
    "        \"Number of: %{marker.size}<br>\" +\n",
    "        \"<extra></extra>\",\n",
    ")"
   ]
  },
  {
   "cell_type": "code",
   "execution_count": 32,
   "metadata": {},
   "outputs": [],
   "source": [
    "#traces for a bar chart\n",
    "trace_isolated = go.Bar(\n",
    "    x = df_sub.index,\n",
    "    y = df_sub.isolated,\n",
    "    name = \"isolated\"\n",
    ")\n",
    "trace_deceased = go.Bar(\n",
    "    x = df_sub.index,\n",
    "    y = df_sub.deceased,\n",
    "    name = \"deceased\"\n",
    ")\n",
    "trace_exit = go.Bar(\n",
    "    x = df_sub.index,\n",
    "    y = df_sub.exit,\n",
    "    name = \"exit\"\n",
    ")"
   ]
  },
  {
   "cell_type": "code",
   "execution_count": 33,
   "metadata": {},
   "outputs": [
    {
     "name": "stdout",
     "output_type": "stream",
     "text": [
      "0       False\n",
      "1       False\n",
      "2       False\n",
      "3       False\n",
      "4       False\n",
      "        ...  \n",
      "1179    False\n",
      "1180    False\n",
      "1181    False\n",
      "1182    False\n",
      "1183    False\n",
      "Length: 1184, dtype: bool\n"
     ]
    }
   ],
   "source": [
    "print((df.state == \"isolated\") & (df.confirmed_date <= days[5]))"
   ]
  },
  {
   "cell_type": "code",
   "execution_count": 34,
   "metadata": {},
   "outputs": [],
   "source": [
    "colors = {\n",
    "    'background': '#ECF0F1',\n",
    "    'text': '#33FF63'\n",
    "}"
   ]
  },
  {
   "cell_type": "code",
   "execution_count": 42,
   "metadata": {},
   "outputs": [],
   "source": [
    "app = dash.Dash(__name__)\n",
    "\n",
    "app.layout = html.Div([\n",
    "    \n",
    "    html.H1(children='COVID-19',\n",
    "           style={\n",
    "               'textAlign':'center',\n",
    "               'color':'#FF3333'}),\n",
    "    \n",
    "     html.H3(children=\n",
    "        'Dash: patients-maroc.',\n",
    "             style={\n",
    "               'textAlign':'center',\n",
    "               'color':colors['text'] }),\n",
    "    html.Br(),\n",
    "    \n",
    "    \n",
    "     html.Div([\n",
    "        dcc.Graph(figure ={\"data\":[trace_cases_daily,trace_deaths_daily,trace_releases_daily],\n",
    "                         \"layout\":{\"title\":\"Number of recorded covid-19 cases dayly\"}\n",
    "                         },\n",
    "        className='nine columns'),\n",
    "\n",
    "        html.Br(),\n",
    "        html.Div([\n",
    "            html.H3([\"Accumulate Cases\"]),\n",
    "            dcc.Graph(\n",
    "                figure ={\"data\":[trace_accumulate_cases,trace_accumulate_deaths,trace_accumulate_releases],\n",
    "                         \"layout\":{\"title\":\"Number of recorded covid-19 until each day\"}\n",
    "                         },\n",
    "            ),\n",
    "        ], className=\"col-6\"),\n",
    "    ], className=\"row\"),\n",
    "        html.Br(),\n",
    "\n",
    "    \n",
    "    \n",
    "     html.Div([\n",
    "        dcc.Graph(\n",
    "            figure={\n",
    "                \"data\": [trace_infection_reasons],\n",
    "                \"layout\":{\"title\":\"Infection reasons\",\n",
    "                          \"scope\": 'africa'},\n",
    "\n",
    "            }\n",
    "        )\n",
    "    ]),\n",
    "    html.Br(),\n",
    "    \n",
    "    \n",
    "    html.Div([\n",
    "        dcc.Graph(\n",
    "            id = \"geo_fig\",\n",
    "            figure={\n",
    "                \"data\": [trace_isolated_geo,trace_deceased_geo,trace_exit_geo],\n",
    "                \"layout\":{\"title\":\"Map view\",\n",
    "                          \"geo\":{\"resolution\":50,\n",
    "                                 \"showframe\": False,\n",
    "                                 \"showland\" : True,\"framewidth\": 1000,\n",
    "                                 \"landcolor\" : \"rgb(217, 217, 217)\",\n",
    "                                 \"fitbounds\": \"locations\",\n",
    "                                 \"showcoastlines\":True, \"coastlinecolor\":\"White\",\n",
    "                                 \"showcountries\": True,\"countrycolor\": \"White\"},\n",
    "                          \"hoverinfo\": \"text\",\n",
    "                          }\n",
    "            }\n",
    "        )\n",
    "    ]),\n",
    "    html.Br(),\n",
    "    \n",
    "    html.Div([\n",
    "        dcc.Graph(\n",
    "            id = \"bar_chart\",\n",
    "            figure ={\n",
    "                \"data\": [trace_isolated,trace_deceased,trace_exit],\n",
    "                \"layout\": {\"title\": \"Bar Chart\"}\n",
    "            }\n",
    "        )\n",
    "    ]),\n",
    "    html.Div([\n",
    "        dcc.Slider(\n",
    "            id=\"date_selector\",\n",
    "            min=0,\n",
    "            max=(df.confirmed_date.max()-df.confirmed_date.min()).days,\n",
    "            step = 1,\n",
    "            value=(df.confirmed_date.max()-df.confirmed_date.min()).days,\n",
    "        )\n",
    "    ]),\n",
    "    html.Br(),\n",
    "\n",
    "        html.H3(id = \"date_selected\"),\n",
    "        html.Label(['Choose column:'],style={'font-weight': 'bold', \"text-align\": \"center\"}),\n",
    "])\n",
    "\n",
    "        "
   ]
  },
  {
   "cell_type": "code",
   "execution_count": 40,
   "metadata": {},
   "outputs": [],
   "source": [
    "#callback to update the day displayed\n",
    "@app.callback(\n",
    "    dash.dependencies.Output(\"date_selected\", \"children\"),\n",
    "    [dash.dependencies.Input(\"date_selector\", \"value\")])\n",
    "def update_date_text(value):\n",
    "    print(value)\n",
    "    return '{}'.format(days.strftime(\"%d %b %Y\")[value])\n",
    "\n",
    "\n",
    "#callback to update the bar chart\n",
    "@app.callback(\n",
    "    dash.dependencies.Output(\"bar_chart\", \"figure\"),\n",
    "    [dash.dependencies.Input(\"date_selector\", \"value\")])\n",
    "def update_bar_chart(value):\n",
    "    isolated = df[(df.state == \"isolated\") & (df.confirmed_date <= days[value])].province.value_counts()\n",
    "    deceased = df[(df.state == \"Deceased\") & (df.confirmed_date <= days[value])].province.value_counts()\n",
    "    exit = df[(df.state == \"Exit\") & (df.confirmed_date <= days[value])].province.value_counts()\n",
    "    df_sub[\"isolated\"] = isolated\n",
    "    df_sub[\"deceased\"] = deceased\n",
    "    df_sub[\"exit\"] = exit\n",
    "    df_sub.fillna(0, inplace=True)\n",
    "    print(df_sub)\n",
    "    # traces for a bar chart\n",
    "    trace_isolated = go.Bar(\n",
    "        x=df_sub.index,\n",
    "        y=df_sub.isolated,\n",
    "        name=\"isolated\"\n",
    "    )\n",
    "    trace_deceased = go.Bar(\n",
    "        x=df_sub.index,\n",
    "        y=df_sub.deceased,\n",
    "        name=\"deceased\"\n",
    "    )\n",
    "    trace_exit = go.Bar(\n",
    "        x=df_sub.index,\n",
    "        y=df_sub.exit,\n",
    "        name=\"exit\"\n",
    "    )\n",
    "    return {\"data\": [trace_isolated,trace_deceased,trace_exit],\n",
    "            \"layout\": {\"title\": \"Bar Chart\"}}\n",
    "\n",
    "\n",
    "\n",
    "#update the geo fig\n",
    "@app.callback(\n",
    "    dash.dependencies.Output(\"geo_fig\", \"figure\"),\n",
    "    [dash.dependencies.Input(\"date_selector\", \"value\")])\n",
    "def update_geo_fig(value):\n",
    "    isolated = df[(df.state == \"isolated\") & (df.confirmed_date <= days[value])].province.value_counts()\n",
    "    deceased = df[(df.state == \"Deceased\") & (df.confirmed_date <= days[value])].province.value_counts()\n",
    "    exit = df[(df.state == \"Exit\") & (df.confirmed_date <= days[value])].province.value_counts()\n",
    "    df_sub[\"isolated\"] = isolated\n",
    "    df_sub[\"deceased\"] = deceased\n",
    "    df_sub[\"exit\"] = exit\n",
    "    df_sub.fillna(0, inplace=True)\n",
    "    print(df_sub)\n",
    "    # traces for a bar chart\n",
    "    trace_isolated_geo = go.Scattergeo(\n",
    "        name = \"isolated\",\n",
    "        locationmode='country names',\n",
    "        lon=df_sub.lon,\n",
    "        lat=df_sub.lat,\n",
    "        text=df_sub.index,\n",
    "        marker=dict(\n",
    "            sizeref=.1,\n",
    "            size=df_sub.isolated,\n",
    "            sizemode=\"area\",\n",
    "        ),\n",
    "        hovertemplate=\n",
    "        \"<b>%{text}</b><br>\" +\n",
    "        \"Number of: %{marker.size}<br>\" +\n",
    "        \"<extra></extra>\",\n",
    "    )\n",
    "    trace_deceased_geo = go.Scattergeo(\n",
    "        name=\"deceased\",\n",
    "        locationmode='country names',\n",
    "        lon=df_sub.lon,\n",
    "        lat=df_sub.lat,\n",
    "        text=df_sub.index,\n",
    "        marker=dict(\n",
    "            sizeref=.1,\n",
    "            size=df_sub.deceased,\n",
    "            sizemode=\"area\",\n",
    "        ),\n",
    "        hovertemplate=\n",
    "        \"<b>%{text}</b><br>\" +\n",
    "        \"Number of: %{marker.size}<br>\" +\n",
    "        \"<extra></extra>\",\n",
    "    )\n",
    "    trace_exit_geo = go.Scattergeo(\n",
    "        name=\"exit\",\n",
    "        locationmode='country names',\n",
    "        lon=df_sub.lon,\n",
    "        lat=df_sub.lat,\n",
    "        text=df_sub.index,\n",
    "        marker=dict(\n",
    "            sizeref=.1,\n",
    "            size=df_sub.exit,\n",
    "            sizemode=\"area\"\n",
    "        ),\n",
    "        hovertemplate=\n",
    "        \"<b>%{text}</b><br>\" +\n",
    "        \"Number of: %{marker.size}<br>\" +\n",
    "        \"<extra></extra>\",\n",
    "    )\n",
    "    return {\"data\": [trace_isolated_geo,trace_deceased_geo,trace_exit_geo],\n",
    "            \"layout\":{\"title\":\"Was testing\",\n",
    "                      \"geo\":{\"resolution\":50,\n",
    "                             \"showframe\": False,\n",
    "                             \"showland\" : True,\"framewidth\": 1000,\n",
    "                             \"landcolor\" : \"rgb(217, 217, 217)\",\n",
    "                             \"fitbounds\": \"locations\",\n",
    "                             \"showcoastlines\":True, \"coastlinecolor\":\"White\",\n",
    "                             \"showcountries\": True,\"countrycolor\": \"White\"},\n",
    "                      \"hoverinfo\": \"text\",}}"
   ]
  },
  {
   "cell_type": "code",
   "execution_count": 41,
   "metadata": {},
   "outputs": [
    {
     "name": "stdout",
     "output_type": "stream",
     "text": [
      " * Serving Flask app \"__main__\" (lazy loading)\n",
      " * Environment: production\n",
      "   WARNING: This is a development server. Do not use it in a production deployment.\n",
      "   Use a production WSGI server instead.\n",
      " * Debug mode: off\n"
     ]
    },
    {
     "name": "stderr",
     "output_type": "stream",
     "text": [
      " * Running on http://127.0.0.1:8050/ (Press CTRL+C to quit)\n",
      "127.0.0.1 - - [11/May/2020 15:04:51] \"\u001b[37mGET / HTTP/1.1\u001b[0m\" 200 -\n",
      "127.0.0.1 - - [11/May/2020 15:04:51] \"\u001b[37mGET /_dash-dependencies HTTP/1.1\u001b[0m\" 200 -\n",
      "127.0.0.1 - - [11/May/2020 15:04:51] \"\u001b[37mGET /_dash-layout HTTP/1.1\u001b[0m\" 200 -\n",
      "127.0.0.1 - - [11/May/2020 15:04:51] \"\u001b[37mGET /_dash-component-suites/dash_core_components/async-dropdown.v1_9_1m1586525729.js HTTP/1.1\u001b[0m\" 200 -\n",
      "127.0.0.1 - - [11/May/2020 15:04:51] \"\u001b[37mPOST /_dash-update-component HTTP/1.1\u001b[0m\" 200 -\n",
      "127.0.0.1 - - [11/May/2020 15:04:51] \"\u001b[37mPOST /_dash-update-component HTTP/1.1\u001b[0m\" 200 -\n",
      "127.0.0.1 - - [11/May/2020 15:04:51] \"\u001b[37mPOST /_dash-update-component HTTP/1.1\u001b[0m\" 200 -\n"
     ]
    },
    {
     "name": "stdout",
     "output_type": "stream",
     "text": [
      "36\n",
      "                                isolated        lon        lat  deceased  exit\n",
      "Casablanca - Settat                  349  -7.965636  33.134399       2.0   2.0\n",
      "Marrakech - Safi                     197  -8.365910  31.736601       4.0   3.0\n",
      "Rabat - Sale - Kenitra               185  -6.235980  34.140537       1.0   0.0\n",
      "Fes - Meknes                         155  -4.658982  33.726610       4.0   1.0\n",
      "Tanger - Tetouan - Al Houceima        98  -5.433289  35.197405       0.0   1.0\n",
      "Oriental                              73  -2.556609  33.991792       0.0   0.0\n",
      "Daraa - Tafilalet                     51  -5.330057  31.258876       0.0   0.0\n",
      "Beni Mellal - Khenifra                32  -6.267116  32.492824       1.0   1.0\n",
      "Souss - Massa                         19  -8.634435  29.992446       0.0   0.0\n",
      "Laayoune - Saguia al hamra             4 -13.178729  27.131740       0.0   0.0\n",
      "Guelmim - Oued Noun                    1  -9.875821  28.581917       0.0   0.0\n",
      "                                isolated        lon        lat  deceased  exit\n",
      "Casablanca - Settat                  349  -7.965636  33.134399       2.0   2.0\n",
      "Marrakech - Safi                     197  -8.365910  31.736601       4.0   3.0\n",
      "Rabat - Sale - Kenitra               185  -6.235980  34.140537       1.0   0.0\n",
      "Fes - Meknes                         155  -4.658982  33.726610       4.0   1.0\n",
      "Tanger - Tetouan - Al Houceima        98  -5.433289  35.197405       0.0   1.0\n",
      "Oriental                              73  -2.556609  33.991792       0.0   0.0\n",
      "Daraa - Tafilalet                     51  -5.330057  31.258876       0.0   0.0\n",
      "Beni Mellal - Khenifra                32  -6.267116  32.492824       1.0   1.0\n",
      "Souss - Massa                         19  -8.634435  29.992446       0.0   0.0\n",
      "Laayoune - Saguia al hamra             4 -13.178729  27.131740       0.0   0.0\n",
      "Guelmim - Oued Noun                    1  -9.875821  28.581917       0.0   0.0\n"
     ]
    },
    {
     "name": "stderr",
     "output_type": "stream",
     "text": [
      "127.0.0.1 - - [11/May/2020 15:05:43] \"\u001b[37mGET / HTTP/1.1\u001b[0m\" 200 -\n",
      "127.0.0.1 - - [11/May/2020 15:05:44] \"\u001b[37mGET /_dash-layout HTTP/1.1\u001b[0m\" 200 -\n",
      "127.0.0.1 - - [11/May/2020 15:05:44] \"\u001b[37mGET /_dash-dependencies HTTP/1.1\u001b[0m\" 200 -\n",
      "127.0.0.1 - - [11/May/2020 15:05:44] \"\u001b[37mGET /_favicon.ico?v=1.11.0 HTTP/1.1\u001b[0m\" 200 -\n",
      "127.0.0.1 - - [11/May/2020 15:05:44] \"\u001b[37mPOST /_dash-update-component HTTP/1.1\u001b[0m\" 200 -\n",
      "127.0.0.1 - - [11/May/2020 15:05:44] \"\u001b[37mPOST /_dash-update-component HTTP/1.1\u001b[0m\" 200 -\n",
      "127.0.0.1 - - [11/May/2020 15:05:44] \"\u001b[37mPOST /_dash-update-component HTTP/1.1\u001b[0m\" 200 -\n"
     ]
    },
    {
     "name": "stdout",
     "output_type": "stream",
     "text": [
      "36\n",
      "                                isolated        lon        lat  deceased  exit\n",
      "Casablanca - Settat                  349  -7.965636  33.134399       2.0   2.0\n",
      "Marrakech - Safi                     197  -8.365910  31.736601       4.0   3.0\n",
      "Rabat - Sale - Kenitra               185  -6.235980  34.140537       1.0   0.0\n",
      "Fes - Meknes                         155  -4.658982  33.726610       4.0   1.0\n",
      "Tanger - Tetouan - Al Houceima        98  -5.433289  35.197405       0.0   1.0\n",
      "Oriental                              73  -2.556609  33.991792       0.0   0.0\n",
      "Daraa - Tafilalet                     51  -5.330057  31.258876       0.0   0.0\n",
      "Beni Mellal - Khenifra                32  -6.267116  32.492824       1.0   1.0\n",
      "Souss - Massa                         19  -8.634435  29.992446       0.0   0.0\n",
      "Laayoune - Saguia al hamra             4 -13.178729  27.131740       0.0   0.0\n",
      "Guelmim - Oued Noun                    1  -9.875821  28.581917       0.0   0.0\n",
      "                                isolated        lon        lat  deceased  exit\n",
      "Casablanca - Settat                  349  -7.965636  33.134399       2.0   2.0\n",
      "Marrakech - Safi                     197  -8.365910  31.736601       4.0   3.0\n",
      "Rabat - Sale - Kenitra               185  -6.235980  34.140537       1.0   0.0\n",
      "Fes - Meknes                         155  -4.658982  33.726610       4.0   1.0\n",
      "Tanger - Tetouan - Al Houceima        98  -5.433289  35.197405       0.0   1.0\n",
      "Oriental                              73  -2.556609  33.991792       0.0   0.0\n",
      "Daraa - Tafilalet                     51  -5.330057  31.258876       0.0   0.0\n",
      "Beni Mellal - Khenifra                32  -6.267116  32.492824       1.0   1.0\n",
      "Souss - Massa                         19  -8.634435  29.992446       0.0   0.0\n",
      "Laayoune - Saguia al hamra             4 -13.178729  27.131740       0.0   0.0\n",
      "Guelmim - Oued Noun                    1  -9.875821  28.581917       0.0   0.0\n"
     ]
    }
   ],
   "source": [
    "if __name__ == '__main__':\n",
    "    app.run_server(port=8050)"
   ]
  },
  {
   "cell_type": "code",
   "execution_count": null,
   "metadata": {},
   "outputs": [],
   "source": []
  },
  {
   "cell_type": "code",
   "execution_count": null,
   "metadata": {},
   "outputs": [],
   "source": []
  },
  {
   "cell_type": "code",
   "execution_count": null,
   "metadata": {},
   "outputs": [],
   "source": []
  },
  {
   "cell_type": "code",
   "execution_count": null,
   "metadata": {},
   "outputs": [],
   "source": []
  }
 ],
 "metadata": {
  "kernelspec": {
   "display_name": "Python 3",
   "language": "python",
   "name": "python3"
  },
  "language_info": {
   "codemirror_mode": {
    "name": "ipython",
    "version": 3
   },
   "file_extension": ".py",
   "mimetype": "text/x-python",
   "name": "python",
   "nbconvert_exporter": "python",
   "pygments_lexer": "ipython3",
   "version": "3.7.4"
  }
 },
 "nbformat": 4,
 "nbformat_minor": 4
}
